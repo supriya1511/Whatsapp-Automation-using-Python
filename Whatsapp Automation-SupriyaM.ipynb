{
 "cells": [
  {
   "cell_type": "code",
   "execution_count": 1,
   "metadata": {},
   "outputs": [],
   "source": [
    "from selenium import webdriver"
   ]
  },
  {
   "cell_type": "code",
   "execution_count": 5,
   "metadata": {},
   "outputs": [],
   "source": [
    "browser=webdriver.Chrome(\"/Users/Dell/Downloads/chromedriver\")"
   ]
  },
  {
   "cell_type": "code",
   "execution_count": 7,
   "metadata": {},
   "outputs": [],
   "source": [
    "browser.get(\"https://www.selenium.dev/\")"
   ]
  },
  {
   "cell_type": "code",
   "execution_count": 8,
   "metadata": {},
   "outputs": [],
   "source": [
    "download=browser.find_element_by_link_text(\"Downloads\")\n",
    "download.click()"
   ]
  },
  {
   "cell_type": "code",
   "execution_count": 9,
   "metadata": {},
   "outputs": [],
   "source": [
    "search=browser.find_element_by_id(\"gsc-i-id1\")\n",
    "search.send_keys(\"Downloads\")"
   ]
  },
  {
   "cell_type": "markdown",
   "metadata": {},
   "source": [
    "### Whatsapp Automation"
   ]
  },
  {
   "cell_type": "code",
   "execution_count": 1,
   "metadata": {},
   "outputs": [
    {
     "name": "stdout",
     "output_type": "stream",
     "text": [
      "Enter the file path : C:/Users/Dell/Desktop/Images/img.jpg\n",
      "Enter the message :Hi, this is whatsapp automation !\n",
      "Enter number of times to send the message :10\n"
     ]
    }
   ],
   "source": [
    "from selenium import webdriver \n",
    "from selenium.webdriver.support import expected_conditions as ec\n",
    "from selenium.webdriver.support.ui import WebDriverWait\n",
    "from selenium.webdriver.common.keys import Keys\n",
    "from selenium.webdriver.common.by import By\n",
    "import time\n",
    "\n",
    "browser=webdriver.Chrome(\"/Users/Dell/Downloads/chromedriver\")\n",
    "browser.get(\"https://web.whatsapp.com/\")\n",
    "wait=WebDriverWait(browser,600)\n",
    "\n",
    "target='\"Supriya\"'  #sender's name that you have saved in your contact\n",
    "file_path=input(\"Enter the file path : \")\n",
    "string=input(\"Enter the message :\")\n",
    "enter_time=int(input(\"Enter number of times to send the message :\"))\n",
    "x_arg='//span[contains(@title,'+ target +')]'\n",
    "target=wait.until(ec.presence_of_element_located((By.XPATH, x_arg)))\n",
    "target.click()"
   ]
  },
  {
   "cell_type": "code",
   "execution_count": 2,
   "metadata": {},
   "outputs": [],
   "source": [
    "input_box=browser.find_element_by_class_name('_1Plpp')\n",
    "for i in range(enter_time):\n",
    "    input_box.send_keys(string + Keys.ENTER)"
   ]
  },
  {
   "cell_type": "code",
   "execution_count": 3,
   "metadata": {},
   "outputs": [],
   "source": [
    "from time import sleep\n",
    "attachment_section=browser.find_element_by_xpath('//div[@title=\"Attach\"]')\n",
    "attachment_section.click()\n",
    "\n",
    "image_box=browser.find_element_by_xpath('//input[@accept=\"image/*,video/mp4,video/3gpp,video/quicktime\"]')\n",
    "image_box.send_keys(file_path)\n",
    "sleep(3)\n",
    "send_button=browser.find_element_by_xpath('//span[@data-icon=\"send-light\"]')\n",
    "send_button.click()"
   ]
  }
 ],
 "metadata": {
  "kernelspec": {
   "display_name": "Python 3",
   "language": "python",
   "name": "python3"
  },
  "language_info": {
   "codemirror_mode": {
    "name": "ipython",
    "version": 3
   },
   "file_extension": ".py",
   "mimetype": "text/x-python",
   "name": "python",
   "nbconvert_exporter": "python",
   "pygments_lexer": "ipython3",
   "version": "3.8.2"
  }
 },
 "nbformat": 4,
 "nbformat_minor": 4
}
